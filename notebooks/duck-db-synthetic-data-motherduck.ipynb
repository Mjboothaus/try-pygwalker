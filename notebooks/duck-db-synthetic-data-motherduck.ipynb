{
 "cells": [
  {
   "attachments": {},
   "cell_type": "markdown",
   "metadata": {},
   "source": [
    "https://motherduck.com/blog/python-synthr-duckdb-exploration/"
   ]
  },
  {
   "cell_type": "code",
   "execution_count": null,
   "metadata": {},
   "outputs": [],
   "source": [
    "import random\n",
    "from faker import Faker as Synthetic\n",
    "import duckdb\n",
    "import pandas as pd\n",
    "import fastparquet\n",
    "import sys\n",
    "import pygwalker as pig"
   ]
  },
  {
   "cell_type": "code",
   "execution_count": null,
   "metadata": {},
   "outputs": [],
   "source": [
    "def initialise_synthetic_data_generator():\n",
    "    Synthetic.seed(42)\n",
    "    return Synthetic(locale=\"en_au\")\n"
   ]
  },
  {
   "cell_type": "code",
   "execution_count": null,
   "metadata": {},
   "outputs": [],
   "source": [
    "synth = initialise_synthetic_data_generator()"
   ]
  },
  {
   "cell_type": "code",
   "execution_count": null,
   "metadata": {},
   "outputs": [],
   "source": [
    "person = {}"
   ]
  },
  {
   "cell_type": "code",
   "execution_count": null,
   "metadata": {},
   "outputs": [],
   "source": [
    "# person['id'] = synth.ssn()\n",
    "person['id'] = random.randrange(1000,9999999999999)\n",
    "person['first_name'] = synth.first_name()\n",
    "person['last_name'] = synth.last_name()\n",
    "person['email'] = synth.unique.ascii_email()\n",
    "person['company'] = synth.company()\n",
    "person['phone'] = synth.phone_number()"
   ]
  },
  {
   "cell_type": "code",
   "execution_count": null,
   "metadata": {},
   "outputs": [],
   "source": [
    "person"
   ]
  },
  {
   "cell_type": "code",
   "execution_count": null,
   "metadata": {},
   "outputs": [],
   "source": [
    "def get_person():\n",
    "  person = {}\n",
    "  person['id'] = random.randrange(1000,9999999999999)\n",
    "  person['first_name'] = synth.first_name()\n",
    "  person['last_name'] = synth.last_name()\n",
    "  person['email'] = synth.unique.ascii_email()\n",
    "  person['company'] = synth.company()\n",
    "  person['phone'] = synth.phone_number()\n",
    "  return person"
   ]
  },
  {
   "cell_type": "code",
   "execution_count": null,
   "metadata": {},
   "outputs": [],
   "source": [
    "def create_persons_table(n_person = 10):\n",
    "    personlist = []\n",
    "    for x in range(n_person):\n",
    "        personlist.append(get_person())\n",
    "    df = pd.DataFrame.from_dict(personlist)\n",
    "    con = duckdb.connect()\n",
    "    con.execute(\"CREATE TABLE persons AS SELECT * FROM df\")\n",
    "    return df"
   ]
  },
  {
   "cell_type": "code",
   "execution_count": null,
   "metadata": {},
   "outputs": [],
   "source": [
    "df = create_persons_table()"
   ]
  },
  {
   "cell_type": "code",
   "execution_count": null,
   "metadata": {},
   "outputs": [],
   "source": [
    "df"
   ]
  },
  {
   "cell_type": "code",
   "execution_count": null,
   "metadata": {},
   "outputs": [],
   "source": [
    "def write_dataframe_to_parquet(df, file_number=1):\n",
    "    fastparquet.write(f'outfile_{file_number}.parquet', df)"
   ]
  },
  {
   "cell_type": "code",
   "execution_count": null,
   "metadata": {},
   "outputs": [],
   "source": [
    "df = create_persons_table(n_person=int(1e5))\n",
    "write_dataframe_to_parquet(df)"
   ]
  },
  {
   "cell_type": "code",
   "execution_count": null,
   "metadata": {},
   "outputs": [],
   "source": [
    "df.info()"
   ]
  },
  {
   "cell_type": "code",
   "execution_count": null,
   "metadata": {},
   "outputs": [],
   "source": [
    "# analyse = pig.walk(df)"
   ]
  },
  {
   "cell_type": "code",
   "execution_count": null,
   "metadata": {},
   "outputs": [],
   "source": []
  }
 ],
 "metadata": {
  "kernelspec": {
   "display_name": ".venv_dev_try-pygwalker",
   "language": "python",
   "name": "python3"
  },
  "language_info": {
   "codemirror_mode": {
    "name": "ipython",
    "version": 3
   },
   "file_extension": ".py",
   "mimetype": "text/x-python",
   "name": "python",
   "nbconvert_exporter": "python",
   "pygments_lexer": "ipython3",
   "version": "3.9.16"
  },
  "orig_nbformat": 4,
  "vscode": {
   "interpreter": {
    "hash": "0501a19eee1b3f533277852ca2781159af944d51e41ac6c7ef4ccbb4d301128b"
   }
  }
 },
 "nbformat": 4,
 "nbformat_minor": 2
}
